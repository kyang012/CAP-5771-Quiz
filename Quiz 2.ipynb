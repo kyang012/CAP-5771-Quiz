{
 "cells": [
  {
   "cell_type": "markdown",
   "metadata": {},
   "source": [
    "Problem 1"
   ]
  },
  {
   "cell_type": "code",
   "execution_count": 16,
   "metadata": {},
   "outputs": [
    {
     "name": "stdout",
     "output_type": "stream",
     "text": [
      "the equation for the line that results from the regression is y = -0.21790350012664153 * x + 33.14986527178327\n"
     ]
    }
   ],
   "source": [
    "import pandas as pd\n",
    "import os\n",
    "from sklearn.model_selection import train_test_split\n",
    "from sklearn.linear_model import LinearRegression\n",
    "from sklearn.metrics import mean_squared_error\n",
    "file_name = os.getcwd()+'/quiz2_dataset1.csv'\n",
    "csv = pd.read_csv(file_name)\n",
    "df = pd.DataFrame(csv)\n",
    "df.head()\n",
    "# process data\n",
    "lr_x = df.loc[:,'Heat Flux']\n",
    "lr_y = df.loc[:, 'Skin Temperature']\n",
    "lr_x = lr_x.values.reshape(-1,1)\n",
    "lr_y = lr_y.values.reshape(-1,1)\n",
    "# split data\n",
    "x_train,x_test,y_train,y_test = train_test_split(lr_x,lr_y,train_size = 0.8)\n",
    "lr_model = LinearRegression()\n",
    "lr_model.fit(x_train,y_train)\n",
    "y_pred=lr_model.predict(x_test)\n",
    "mse_lr = mean_squared_error(y_test,y_pred)\n",
    "w = lr_model.coef_\n",
    "b = lr_model.intercept_\n",
    "lr_coef = w[0][0]\n",
    "lr_intercept = b[0]\n",
    "print(\"the equation for the line that results from the regression is y =\",lr_coef,'* x +',lr_intercept)"
   ]
  },
  {
   "cell_type": "markdown",
   "metadata": {},
   "source": [
    "Problem 2"
   ]
  },
  {
   "cell_type": "code",
   "execution_count": 46,
   "metadata": {},
   "outputs": [
    {
     "name": "stdout",
     "output_type": "stream",
     "text": [
      "{'A': {'T': {'B': {'T': {'C': {'T': 5, 'F': 0}}, 'F': {'C': {'T': 20, 'F': 0}}}}, 'F': {'B': {'T': {'C': {'T': -20, 'F': 25}}, 'F': {'C': {'T': -5, 'F': -25}}}}}}\n"
     ]
    }
   ],
   "source": [
    "# custom decision tree\n",
    "import operator\n",
    "import numpy as np\n",
    "import pandas as pd\n",
    "import os\n",
    "# load data\n",
    "def load_dataSet():\n",
    "    file_name = os.getcwd()+'/quiz2_dataset2.csv'\n",
    "    dataSet = pd.read_csv(file_name)\n",
    "    labelSet = list(dataSet.columns.values)\n",
    "    dataSet = dataSet.values\n",
    "    return dataSet,labelSet\n",
    "\n",
    "# calculate entropy\n",
    "def calcShannonEnt(dataSet):\n",
    "    numEntries = len(dataSet)\n",
    "    labelCounts = {}\n",
    "    for featVec in dataSet:\n",
    "        # current sample type\n",
    "        currentLabel = featVec[-1]\n",
    "        # if current type not in labelCounts,create it.\n",
    "        if currentLabel not in labelCounts.keys():\n",
    "            labelCounts[currentLabel] = 0\n",
    "        labelCounts[currentLabel] += 1\n",
    "    shannonEnt = 0.0\n",
    "    for key in labelCounts:\n",
    "        prob = float(labelCounts[key]) / numEntries\n",
    "        shannonEnt -= prob*np.log2(prob)\n",
    "    return shannonEnt\n",
    "\n",
    "# split dataset\n",
    "def splitDataSet(dataSet, axis, value):\n",
    "    retDataSet = []\n",
    "    for featVec in dataSet:\n",
    "        # Extract the same data features\n",
    "        if featVec[axis] == value:\n",
    "            reducedFeatVec = list(featVec[:axis])\n",
    "            reducedFeatVec.extend(featVec[axis+1:])\n",
    "            retDataSet.append(reducedFeatVec)\n",
    "    return retDataSet\n",
    "\n",
    "# choose the best split feature\n",
    "def chooseBestFeature(dataSet):\n",
    "    numFeature = len(dataSet[0])-1\n",
    "    baseEntroy = calcShannonEnt(dataSet)\n",
    "    bestInfoGain = 0.0\n",
    "    bestFeature = -1\n",
    "    for i in range(numFeature):\n",
    "        featureList = [example[i] for example in dataSet]\n",
    "        uniqueVals = set(featureList)\n",
    "        newEntropy = 0.0\n",
    "        for value in uniqueVals:\n",
    "            subDataSet = splitDataSet(dataSet, i, value)\n",
    "            prob = len(subDataSet) / float(len(dataSet))\n",
    "            newEntropy += prob * np.log2(prob)\n",
    "        inforGain = baseEntroy - newEntropy \n",
    "        if inforGain > bestInfoGain:\n",
    "            bestInfoGain = inforGain\n",
    "            bestFeature = i\n",
    "    return bestFeature\n",
    "\n",
    "# construct the decision tree recursively\n",
    "def majorityCnt(classList):\n",
    "    classCount = {}\n",
    "    for vote in classList:\n",
    "        if vote not in classCount.keys():\n",
    "            classCount[vote] = 0\n",
    "        classCount += 1\n",
    "    sortedClassCount = sorted(classCount.items(), key=operator.itemgetter(1), reverse=True)\n",
    "    return sortedClassCount[0][0]\n",
    "# construct the decision tree\n",
    "def createTree(dataSet, labels):\n",
    "    classList = [example[-1] for example in dataSet]\n",
    "    if classList.count(classList[0]) == len(classList):\n",
    "        return classList[0]\n",
    "    if (len(dataSet[0]) == 1):\n",
    "        return majorityCnt(classList)\n",
    "    bestFeat = chooseBestFeature(dataSet)\n",
    "    bestFeatLabel = labels[bestFeat]\n",
    "    myTree = {bestFeatLabel:{}}\n",
    "    del(labels[bestFeat])\n",
    "    featValues = [example[bestFeat] for example in dataSet]\n",
    "    uniqueVals = set(featValues)\n",
    "    for value in uniqueVals:\n",
    "        subLabels = labels[:]\n",
    "        myTree[bestFeatLabel][value] = createTree(splitDataSet(dataSet, bestFeat, value), subLabels)\n",
    "    return myTree\n",
    "if __name__ == '__main__':\n",
    "    dataSet, labelSet = load_dataSet()\n",
    "    shannonEnt = calcShannonEnt(dataSet)\n",
    "    tree= createTree(dataSet, labelSet)\n",
    "    print (tree)"
   ]
  },
  {
   "cell_type": "code",
   "execution_count": 57,
   "metadata": {},
   "outputs": [
    {
     "name": "stdout",
     "output_type": "stream",
     "text": [
      "accuracy is 1.000\n"
     ]
    }
   ],
   "source": [
    "# sklearn decision tree\n",
    "import numpy as np\n",
    "import pandas as pd\n",
    "import os\n",
    "from sklearn import tree\n",
    "from sklearn.model_selection import train_test_split\n",
    "from sklearn.metrics import accuracy_score\n",
    "file_name = os.getcwd()+\"/quiz2_dataset2_2.csv\"\n",
    "csv = pd.read_csv(file_name)\n",
    "tree_df = pd.DataFrame(csv)\n",
    "tree_df.loc[tree_df['A'] == 'T'] = 1\n",
    "tree_df.loc[tree_df['A'] == 'F'] = 0\n",
    "tree_df.loc[tree_df['B'] == 'T'] = 1\n",
    "tree_df.loc[tree_df['B'] == 'F'] = 0\n",
    "tree_df.loc[tree_df['C'] == 'T'] = 1\n",
    "tree_df.loc[tree_df['C'] == 'F'] = 0\n",
    "cols = [\"A\",\"B\",\"C\"]\n",
    "X = tree_df[cols]\n",
    "Y = tree_df['result']\n",
    "x_train,x_test,y_train,y_test = train_test_split(X,Y,train_size = 0.8)\n",
    "dt_model = tree.DecisionTreeClassifier(criterion=\"entropy\")\n",
    "dt_model.fit(x_train,y_train)\n",
    "y_pred = dt_model.predict(x_test)\n",
    "print(\"accuracy is %2.3f\" % accuracy_score(y_test, y_pred))"
   ]
  },
  {
   "cell_type": "markdown",
   "metadata": {},
   "source": [
    "Problem 4"
   ]
  },
  {
   "cell_type": "code",
   "execution_count": 73,
   "metadata": {},
   "outputs": [
    {
     "name": "stdout",
     "output_type": "stream",
     "text": [
      "accuracy is 0.500\n"
     ]
    }
   ],
   "source": [
    "import numpy as np\n",
    "import pandas as pd\n",
    "import os\n",
    "import matplotlib.pyplot as plt\n",
    "import seaborn as sns\n",
    "from sklearn import svm\n",
    "from sklearn.model_selection import train_test_split\n",
    "from sklearn.metrics import accuracy_score\n",
    "from sklearn.metrics import confusion_matrix\n",
    "file_name = os.getcwd()+\"/quiz2_dataset4.csv\"\n",
    "csv = pd.read_csv(file_name)\n",
    "svm_df = pd.DataFrame(csv)\n",
    "svm_df.loc[svm_df['Lagrange Multiplier'] == 65.5261] = 1\n",
    "cols = [\"x1\",\"x2\",\"y\"]\n",
    "X = svm_df[cols]\n",
    "Y = svm_df['Lagrange Multiplier']\n",
    "x_train,x_test,y_train,y_test = train_test_split(X,Y,train_size = 0.8)\n",
    "svm_model = svm.SVC(kernel='linear')\n",
    "svm_model.fit(x_train,y_train)\n",
    "y_pred = svm_model.predict(x_test)\n",
    "print(\"accuracy is %2.3f\" % accuracy_score(y_test, y_pred))"
   ]
  },
  {
   "cell_type": "code",
   "execution_count": 71,
   "metadata": {},
   "outputs": [
    {
     "data": {
      "text/plain": [
       "Text(33.0, 0.5, 'true value')"
      ]
     },
     "execution_count": 71,
     "metadata": {},
     "output_type": "execute_result"
    },
    {
     "data": {
      "image/png": "[encoded data removed]",
      "text/plain": [
       "<Figure size 432x288 with 2 Axes>"
      ]
     },
     "metadata": {
      "needs_background": "light"
     },
     "output_type": "display_data"
    }
   ],
   "source": [
    "cm = confusion_matrix(y_test, y_pred)\n",
    "fig,ax = plt.subplots()\n",
    "sns.heatmap(cm,annot = True,ax = ax)\n",
    "ax.set_title('confusion matrix') \n",
    "ax.set_xlabel('predict value') \n",
    "ax.set_ylabel('true value')"
   ]
  },
  {
   "cell_type": "code",
   "execution_count": 75,
   "metadata": {},
   "outputs": [
    {
     "name": "stdout",
     "output_type": "stream",
     "text": [
      "[[0.522043   0.58432178 0.27277088]]\n",
      "[-1.69077084]\n"
     ]
    }
   ],
   "source": [
    "w = svm_model.coef_\n",
    "b = svm_model.intercept_\n",
    "print(w)\n",
    "print(b)"
   ]
  },
  {
   "cell_type": "code",
   "execution_count": null,
   "metadata": {},
   "outputs": [],
   "source": []
  }
 ],
 "metadata": {
  "kernelspec": {
   "display_name": "Python 3",
   "language": "python",
   "name": "python3"
  },
  "language_info": {
   "codemirror_mode": {
    "name": "ipython",
    "version": 3
   },
   "file_extension": ".py",
   "mimetype": "text/x-python",
   "name": "python",
   "nbconvert_exporter": "python",
   "pygments_lexer": "ipython3",
   "version": "3.7.6"
  }
 },
 "nbformat": 4,
 "nbformat_minor": 4
}
